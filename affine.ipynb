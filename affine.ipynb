{
 "cells": [
  {
   "cell_type": "code",
   "execution_count": 8,
   "metadata": {},
   "outputs": [
    {
     "name": "stdout",
     "output_type": "stream",
     "text": [
      "[7, 8, 8]\n",
      "[2, 5, 5] ['C', 'F', 'F']\n",
      "CFF\n"
     ]
    }
   ],
   "source": [
    "inp=input(\"Enter string\")\n",
    "key=int(input(\"ENter Key 1\"))\n",
    "key2=int(input(\"ENter Key 2\"))\n",
    "inp=inp.upper()\n",
    "# print(ip)\n",
    "inp_ascii=[]\n",
    "for i in inp:\n",
    "    inp_ascii.append(ord(i)-65)\n",
    "print(inp_ascii)\n",
    "results=[]\n",
    "results_in_text=[]\n",
    "for i in inp_ascii:\n",
    "    res=((i*key)+key2)%26\n",
    "    results.append(res)\n",
    "    results_in_text.append(chr(res+65))\n",
    "print(results,results_in_text)\n",
    "s=''.join(results_in_text)\n",
    "print(s)"
   ]
  },
  {
   "cell_type": "code",
   "execution_count": 2,
   "metadata": {},
   "outputs": [],
   "source": [
    "def mulinverse(a,b):\n",
    "    ri=[b,a]\n",
    "    qi=[0,0]\n",
    "    xi=[1,0]\n",
    "    yi=[0,1]\n",
    "    i=2\n",
    "    while True:\n",
    "        ri.append(ri[i-2]%ri[i-1])\n",
    "        qi.append(ri[i-2]//ri[i-1])\n",
    "        xi.append(xi[i-2]-qi[i]*xi[i-1])\n",
    "        yi.append(yi[i-2]-qi[i]*yi[i-1])\n",
    "        if(ri[i]==1):\n",
    "            break\n",
    "        i+=1\n",
    "    if(xi[-1]>0):\n",
    "        x=xi[-1]\n",
    "    else:\n",
    "        x=xi[-1]+26\n",
    "    if(yi[-1]>0):\n",
    "        y=yi[-1]\n",
    "    else:\n",
    "        y=yi[-1]+26\n",
    "    return y\n",
    "    "
   ]
  },
  {
   "cell_type": "code",
   "execution_count": 9,
   "metadata": {},
   "outputs": [
    {
     "data": {
      "text/plain": [
       "9"
      ]
     },
     "execution_count": 9,
     "metadata": {},
     "output_type": "execute_result"
    }
   ],
   "source": [
    "mulinverse(3,26)"
   ]
  },
  {
   "cell_type": "code",
   "execution_count": 10,
   "metadata": {},
   "outputs": [
    {
     "name": "stdout",
     "output_type": "stream",
     "text": [
      "[2, 5, 5]\n",
      "[7, 8, 8] ['H', 'I', 'I']\n",
      "HII\n"
     ]
    }
   ],
   "source": [
    "inp_ascii2=[]\n",
    "for i in s:\n",
    "    inp_ascii2.append(ord(i)-65)\n",
    "print(inp_ascii2)\n",
    "results=[]\n",
    "results_in_text=[]\n",
    "keyinv=mulinverse(key,26)\n",
    "for i in inp_ascii2:\n",
    "    res=((i-key2)*keyinv)%26\n",
    "    results.append(res)\n",
    "    results_in_text.append(chr(res+65))\n",
    "print(results,results_in_text)\n",
    "sd=''.join(results_in_text)\n",
    "print(sd)"
   ]
  }
 ],
 "metadata": {
  "interpreter": {
   "hash": "e8d6f667db85590741f3901a9f3e44b5d4353afa4a088b8906c222a99e861616"
  },
  "kernelspec": {
   "display_name": "Python 3.9.0 64-bit",
   "language": "python",
   "name": "python3"
  },
  "language_info": {
   "codemirror_mode": {
    "name": "ipython",
    "version": 3
   },
   "file_extension": ".py",
   "mimetype": "text/x-python",
   "name": "python",
   "nbconvert_exporter": "python",
   "pygments_lexer": "ipython3",
   "version": "3.9.0"
  },
  "orig_nbformat": 4
 },
 "nbformat": 4,
 "nbformat_minor": 2
}
