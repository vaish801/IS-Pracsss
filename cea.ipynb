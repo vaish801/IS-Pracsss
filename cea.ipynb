{
 "cells": [
  {
   "cell_type": "code",
   "execution_count": 9,
   "metadata": {},
   "outputs": [
    {
     "name": "stdout",
     "output_type": "stream",
     "text": [
      "[7, 8, 8]\n",
      "[11, 12, 12] ['L', 'M', 'M']\n"
     ]
    }
   ],
   "source": [
    "inp=input(\"Enter string\")\n",
    "key=int(input(\"ENter Key\"))\n",
    "inp=inp.upper()\n",
    "# print(ip)\n",
    "inp_ascii=[]\n",
    "for i in inp:\n",
    "    inp_ascii.append(ord(i)-65)\n",
    "print(inp_ascii)\n",
    "results=[]\n",
    "results_in_text=[]\n",
    "for i in inp_ascii:\n",
    "    res=(i+key)%26\n",
    "    results.append(res)\n",
    "    results_in_text.append(chr(res+65))\n",
    "print(results,results_in_text)\n",
    "\n"
   ]
  }
 ],
 "metadata": {
  "interpreter": {
   "hash": "e8d6f667db85590741f3901a9f3e44b5d4353afa4a088b8906c222a99e861616"
  },
  "kernelspec": {
   "display_name": "Python 3.9.0 64-bit",
   "language": "python",
   "name": "python3"
  },
  "language_info": {
   "codemirror_mode": {
    "name": "ipython",
    "version": 3
   },
   "file_extension": ".py",
   "mimetype": "text/x-python",
   "name": "python",
   "nbconvert_exporter": "python",
   "pygments_lexer": "ipython3",
   "version": "3.9.0"
  },
  "orig_nbformat": 4
 },
 "nbformat": 4,
 "nbformat_minor": 2
}
