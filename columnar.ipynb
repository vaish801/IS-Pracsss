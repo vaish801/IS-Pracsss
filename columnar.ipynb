{
 "cells": [
  {
   "cell_type": "code",
   "execution_count": 2,
   "metadata": {},
   "outputs": [
    {
     "name": "stdout",
     "output_type": "stream",
     "text": [
      "(4, 4)\n",
      "[['T' 'h' 'i' 's']\n",
      " ['i' 's' 'v' 'a']\n",
      " ['i' 's' 'h' 'n']\n",
      " ['a' 'v' 'i' '0']]\n",
      "17\n"
     ]
    }
   ],
   "source": [
    "import numpy as np\n",
    "a=\"This is vaishnavi\"\n",
    "b=a.replace(\" \",\"\")\n",
    "key='Hack'.upper()\n",
    "cols=len(key)\n",
    "rows=len(b)//cols\n",
    "rem=len(b)%cols\n",
    "if(rem!=0):\n",
    "    rows=rows+1\n",
    "# matrix=np.zeros([rows,cols])\n",
    "matrix=np.full((rows,cols),0, dtype=int)\n",
    "mt=matrix.astype('str')\n",
    "enmatrix=np.zeros([rows,cols])\n",
    "enmt=enmatrix.astype('str')\n",
    "print(matrix.shape)\n",
    "i=0\n",
    "j=0\n",
    "for k in b:\n",
    "    mt[i][j]=k\n",
    "    j+=1\n",
    "    if(j==cols):\n",
    "        j=0\n",
    "        i+=1\n",
    "print(mt)\n",
    "\n",
    "# for i in range(0,rows):\n",
    "#     for j in range(0,cols):\n",
    "#         matrix[i][j]=\n",
    "print(len(a))\n"
   ]
  },
  {
   "cell_type": "code",
   "execution_count": 3,
   "metadata": {},
   "outputs": [
    {
     "name": "stdout",
     "output_type": "stream",
     "text": [
      "ACHK\n",
      "{0: 1, 1: 2, 2: 0, 3: 3}\n",
      "{'H': 0, 'A': 1, 'C': 2, 'K': 3}\n"
     ]
    }
   ],
   "source": [
    "#Keysss Arrangement\n",
    "\n",
    "s=''.join(sorted(key))\n",
    "print(s)\n",
    "l=list(s)\n",
    "d1=dict()\n",
    "d2=dict()\n",
    "# d1d=dict()\n",
    "l1=list(key)\n",
    "for i in range(0,len(l)):\n",
    "    d2[l1[i]]=i\n",
    "for i in range(0,len(l)):\n",
    "    d1[i]=d2[l[i]]\n",
    "    # d1d[i]=l[i]\n",
    "# l\n",
    "print(d1)\n",
    "# print(d1d)\n",
    "print(d2)"
   ]
  },
  {
   "cell_type": "code",
   "execution_count": 4,
   "metadata": {},
   "outputs": [
    {
     "name": "stdout",
     "output_type": "stream",
     "text": [
      "[['T' 'h' 'i' 's']\n",
      " ['i' 's' 'v' 'a']\n",
      " ['i' 's' 'h' 'n']\n",
      " ['a' 'v' 'i' '0']]\n",
      "hssvivhiTiiasan0"
     ]
    }
   ],
   "source": [
    "#Encryptionnnnnnnnnnn\n",
    "\n",
    "st=\"\"\n",
    "# temp=np.zeros([0,cols])\n",
    "# temp=temp.astype('str')\n",
    "print(mt)\n",
    "for i in range(0,cols):\n",
    "    j=d1[i]\n",
    "    st+=''.join(mt[:,j])\n",
    "    \n",
    "print(st,end=\"\")\n",
    "# mtt=np.transpose(mt)\n",
    "# li1keys=d1.keys()\n",
    "# li1val=d1.values()\n",
    "# li2keys=d2.keys()\n",
    "# li2valies=d2.values()\n",
    "# print(mtt)\n",
    "# for j in range(0,rows):\n",
    "#     temp=mtt[j]\n",
    "#     ind=d1d[j]\n",
    "#     indl=d2[ind]\n",
    "#     enmt[j]=mtt[indl]\n",
    "#     # mtt[indl]=temp\n",
    "# print(np.transpose(enmt))\n",
    "\n"
   ]
  },
  {
   "cell_type": "code",
   "execution_count": 71,
   "metadata": {},
   "outputs": [
    {
     "data": {
      "text/plain": [
       "16"
      ]
     },
     "execution_count": 71,
     "metadata": {},
     "output_type": "execute_result"
    }
   ],
   "source": [
    "len(st)"
   ]
  },
  {
   "cell_type": "code",
   "execution_count": 73,
   "metadata": {},
   "outputs": [
    {
     "name": "stdout",
     "output_type": "stream",
     "text": [
      "[['T' 'h' 'i' 's']\n",
      " ['i' 's' 'v' 'a']\n",
      " ['i' 's' 'h' 'n']\n",
      " ['a' 'v' 'i' '0']]\n",
      "Thisisvaishnavi0\n"
     ]
    }
   ],
   "source": [
    "#Decryptionnnnnnnnnnn\n",
    "j=d1[0]\n",
    "i=0\n",
    "c=0\n",
    "for m in range(0,len(st)):\n",
    "    enmt[i][j]=st[m]\n",
    "    i+=1\n",
    "    if(i==rows):\n",
    "        i=0\n",
    "        c+=1\n",
    "        if(c==cols):\n",
    "            break\n",
    "        j=d1[c]\n",
    "print(enmt)\n",
    "pt=\"\"\n",
    "for k in range(0,rows):\n",
    "    pt+=''.join(enmt[k])\n",
    "print(pt)"
   ]
  }
 ],
 "metadata": {
  "interpreter": {
   "hash": "e8d6f667db85590741f3901a9f3e44b5d4353afa4a088b8906c222a99e861616"
  },
  "kernelspec": {
   "display_name": "Python 3.9.0 64-bit",
   "language": "python",
   "name": "python3"
  },
  "language_info": {
   "codemirror_mode": {
    "name": "ipython",
    "version": 3
   },
   "file_extension": ".py",
   "mimetype": "text/x-python",
   "name": "python",
   "nbconvert_exporter": "python",
   "pygments_lexer": "ipython3",
   "version": "3.9.0"
  },
  "orig_nbformat": 4
 },
 "nbformat": 4,
 "nbformat_minor": 2
}
