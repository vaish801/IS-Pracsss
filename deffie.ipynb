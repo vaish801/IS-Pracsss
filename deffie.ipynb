{
 "cells": [
  {
   "cell_type": "code",
   "execution_count": 38,
   "metadata": {},
   "outputs": [],
   "source": [
    "import math\n",
    "def check_prime(p):\n",
    "    for i in range(2,p//2):\n",
    "        r=p%i\n",
    "        if(r==0):\n",
    "            return 0\n",
    "    return 1\n",
    "def check_primitiveroot(p,g):\n",
    "    gc=math.gcd(g,p)\n",
    "    if(gc==1):\n",
    "        return 1\n",
    "    else:\n",
    "        return 0\n",
    "\n",
    "def generate_secret():\n",
    "    p=int(input(\"Enter p (Prime number)\"))\n",
    "    g=int(input(\"Enter g (Primitive Root of p)\"))\n",
    "    if(check_prime(p)==1 and check_primitiveroot(p,g)==1):\n",
    "        a=6\n",
    "        b=9\n",
    "\n",
    "        Alice_x=(g**a)%p\n",
    "        Bob_y=(g**b)%p\n",
    "\n",
    "        # print(Alice_x,Bob_y)\n",
    "\n",
    "        Alice_secret=(Bob_y**a)%p\n",
    "        Bob_secret=(Alice_x**b)%p\n",
    "\n",
    "        print(\"Secret Key:\",Alice_secret)"
   ]
  },
  {
   "cell_type": "code",
   "execution_count": 39,
   "metadata": {},
   "outputs": [],
   "source": [
    "def Encrypt(plainText,key):\n",
    "    ciphertext = \"\"\n",
    "    for i in range(0,len(plainText)):\n",
    "        ch = plainText[i]\n",
    "        if ch==' ':\n",
    "            ciphertext+=\" \"\n",
    "        elif ch.isnumeric():\n",
    "            asci_val = (ord(ch) - 48 +key)%10\n",
    "            ciphertext+= chr(48 + asci_val)\n",
    "        else:\n",
    "            asci_val = (ord(ch)-65+key)%26\n",
    "            ciphertext+=chr(65+asci_val)\n",
    "\n",
    "    return ciphertext\n"
   ]
  },
  {
   "cell_type": "code",
   "execution_count": 40,
   "metadata": {},
   "outputs": [],
   "source": [
    "def Decrypt(cipherText, key):\n",
    "    plainText = \"\"\n",
    "    for i in range(0, len(cipherText)):\n",
    "        ch = cipherText[i]\n",
    "        if ch == \" \":\n",
    "            plainText += \" \"\n",
    "        elif ch.isnumeric():\n",
    "            if key > 9:\n",
    "                key %= 10     \n",
    "            ascii_val = (ord(ch) - 48 - key)\n",
    "            if ascii_val < 0:                \n",
    "                ascii_val =  abs(ascii_val) % 10\n",
    "                plainText += chr(57 - ascii_val + 1)\n",
    "            else:\n",
    "                ascii_val =  abs(ascii_val) % 10\n",
    "                plainText += chr(48 + ascii_val)\n",
    "        else:\n",
    "            if key > 25:\n",
    "                key %= 26 \n",
    "            ascii_val = (ord(ch) - 65 - key)\n",
    "            if ascii_val < 0:                \n",
    "                ascii_val =  abs(ascii_val) % 26 \n",
    "                plainText += chr(90 - ascii_val + 1)\n",
    "            else:\n",
    "                ascii_val =  abs(ascii_val) % 26 \n",
    "                plainText += chr(65 + ascii_val)\n",
    "    print(\"Decrypted Text at Bob's end: \", plainText)\n"
   ]
  },
  {
   "cell_type": "code",
   "execution_count": 41,
   "metadata": {},
   "outputs": [
    {
     "name": "stdout",
     "output_type": "stream",
     "text": [
      "Secret Key: 3\n",
      "Cipher Text from Alice: LAHYCXPAJYQH\n",
      "Decrypted Text at Bob's end:  CRYPTOGRAPHY\n"
     ]
    }
   ],
   "source": [
    "pt=input(\"Enter plain text for encryption:\")\n",
    "generate_secret()\n",
    "cipher = Encrypt(pt.upper(),Alice_secret)\n",
    "print(\"Cipher Text from Alice:\",cipher)\n",
    "Decrypt(cipher,Bob_secret)\n"
   ]
  },
  {
   "cell_type": "code",
   "execution_count": 9,
   "metadata": {},
   "outputs": [
    {
     "name": "stdout",
     "output_type": "stream",
     "text": [
      "If you entered a large number (4+ digits) this could take a long time.\n",
      "Primitive roots of 7 are:\n",
      "[3, 5]\n"
     ]
    }
   ],
   "source": [
    "prime = int(input(\"Enter a prime number: \"))\n",
    "num_to_check = 0\n",
    "p_minus_1_range = prime-1\n",
    "# print(len(p_minus_1_range))\n",
    "print (\"If you entered a large number (4+ digits) this could take a long time.\")\n",
    "# print \"\"\n",
    "# print \"Working...\"\n",
    "primitive_roots = []\n",
    "for eac in range(1, prime):\n",
    "\tnum_to_check += 1\n",
    "\tcandidate_prim_roots = []\n",
    "\tfor i in range(0, prime-1):\n",
    "\t\tmodulus = (num_to_check ** i) % prime\n",
    "\t\tcandidate_prim_roots.append(modulus)\n",
    "\t\tcleanedup_candidate_prim_roots = set(candidate_prim_roots)\n",
    "\t\tif len(cleanedup_candidate_prim_roots) == len(range(1,prime)):\n",
    "\t\t\tprimitive_roots.append(num_to_check)\n",
    "print (\"Primitive roots of %d are:\" % prime)\n",
    "# print \"-----------------------------------\"\n",
    "print (primitive_roots)"
   ]
  }
 ],
 "metadata": {
  "interpreter": {
   "hash": "e8d6f667db85590741f3901a9f3e44b5d4353afa4a088b8906c222a99e861616"
  },
  "kernelspec": {
   "display_name": "Python 3.9.0 64-bit",
   "language": "python",
   "name": "python3"
  },
  "language_info": {
   "codemirror_mode": {
    "name": "ipython",
    "version": 3
   },
   "file_extension": ".py",
   "mimetype": "text/x-python",
   "name": "python",
   "nbconvert_exporter": "python",
   "pygments_lexer": "ipython3",
   "version": "3.9.0"
  },
  "orig_nbformat": 4
 },
 "nbformat": 4,
 "nbformat_minor": 2
}
