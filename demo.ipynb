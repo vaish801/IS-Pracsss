{
 "cells": [
  {
   "cell_type": "code",
   "execution_count": 1,
   "metadata": {},
   "outputs": [
    {
     "name": "stdout",
     "output_type": "stream",
     "text": [
      "Collecting des\n",
      "  Downloading des-1.0.6.tar.gz (6.3 kB)\n",
      "  Preparing metadata (setup.py): started\n",
      "  Preparing metadata (setup.py): finished with status 'done'\n",
      "Using legacy 'setup.py install' for des, since package 'wheel' is not installed.\n",
      "Installing collected packages: des\n",
      "  Running setup.py install for des: started\n",
      "  Running setup.py install for des: finished with status 'done'\n",
      "Successfully installed des-1.0.6\n",
      "Note: you may need to restart the kernel to use updated packages.\n"
     ]
    },
    {
     "name": "stderr",
     "output_type": "stream",
     "text": [
      "WARNING: You are using pip version 22.0.4; however, version 22.1.2 is available.\n",
      "You should consider upgrading via the 'c:\\Users\\Vaishnavi\\AppData\\Local\\Programs\\Python\\Python39\\python.exe -m pip install --upgrade pip' command.\n"
     ]
    }
   ],
   "source": [
    "pip install des"
   ]
  },
  {
   "cell_type": "code",
   "execution_count": 9,
   "metadata": {},
   "outputs": [
    {
     "name": "stdout",
     "output_type": "stream",
     "text": [
      "Collecting pycryptodomex\n",
      "  Downloading pycryptodomex-3.14.1-cp35-abi3-win_amd64.whl (1.8 MB)\n",
      "     ---------------------------------------- 1.8/1.8 MB 705.2 kB/s eta 0:00:00\n",
      "Installing collected packages: pycryptodomex\n",
      "Successfully installed pycryptodomex-3.14.1\n",
      "Note: you may need to restart the kernel to use updated packages.\n"
     ]
    },
    {
     "name": "stderr",
     "output_type": "stream",
     "text": [
      "WARNING: You are using pip version 22.0.4; however, version 22.1.2 is available.\n",
      "You should consider upgrading via the 'c:\\Users\\Vaishnavi\\AppData\\Local\\Programs\\Python\\Python39\\python.exe -m pip install --upgrade pip' command.\n"
     ]
    }
   ],
   "source": [
    "pip install pycryptodomex"
   ]
  },
  {
   "cell_type": "code",
   "execution_count": 7,
   "metadata": {},
   "outputs": [
    {
     "data": {
      "text/plain": [
       "b'%\\xd1KU\\x8b_A\\xa6'"
      ]
     },
     "execution_count": 7,
     "metadata": {},
     "output_type": "execute_result"
    }
   ],
   "source": [
    "from des import DesKey\n",
    "key0 = DesKey(b\"some key\")  \n",
    "\n",
    "key0.encrypt(b\"abc\", padding=True)  # -> b\"%\\xd1KU\\x8b_A\\xa6\"\n",
    "# key0.decrypt(b\"%\\xd1KU\\x8b_A\\xa6\", padding=True)  # -> b\"abc\""
   ]
  },
  {
   "cell_type": "code",
   "execution_count": 13,
   "metadata": {},
   "outputs": [
    {
     "name": "stdout",
     "output_type": "stream",
     "text": [
      "b'My Name is Ahmed'\n"
     ]
    }
   ],
   "source": [
    "from Cryptodome.Cipher import AES\n",
    "key = b\"Vaish is mmasttt\"\n",
    "cipher = AES.new(key, AES.MODE_EAX)\n",
    "\n",
    "nonce = cipher.nonce\n",
    "CT, tag = cipher.encrypt_and_digest(b\"My Name is Ahmed\")\n",
    "\n",
    "cipher = AES.new(key, AES.MODE_EAX, nonce=nonce)\n",
    "# cipher.verify(tag)\n",
    "plaintText = cipher.decrypt(CT)\n",
    "print(plaintText)\n"
   ]
  },
  {
   "cell_type": "code",
   "execution_count": 5,
   "metadata": {},
   "outputs": [
    {
     "name": "stdout",
     "output_type": "stream",
     "text": [
      "Collecting pycryptodome\n",
      "  Downloading pycryptodome-3.14.1-cp35-abi3-win_amd64.whl (1.8 MB)\n",
      "     ---------------------------------------- 1.8/1.8 MB 1.2 MB/s eta 0:00:00\n",
      "Installing collected packages: pycryptodome\n",
      "Successfully installed pycryptodome-3.14.1\n",
      "Note: you may need to restart the kernel to use updated packages.\n"
     ]
    },
    {
     "name": "stderr",
     "output_type": "stream",
     "text": [
      "WARNING: You are using pip version 22.0.4; however, version 22.1.2 is available.\n",
      "You should consider upgrading via the 'c:\\Users\\Vaishnavi\\AppData\\Local\\Programs\\Python\\Python39\\python.exe -m pip install --upgrade pip' command.\n"
     ]
    }
   ],
   "source": [
    "pip install pycryptodome"
   ]
  },
  {
   "cell_type": "code",
   "execution_count": 12,
   "metadata": {},
   "outputs": [
    {
     "name": "stdout",
     "output_type": "stream",
     "text": [
      "b'\\x7f\\x1eC\\xd8\\x80\\xf0\\x9cd\\xaccx\\xafm\\xe4w\\x02'\n",
      "7f1e43d880f09c64ac6378af6de47702\n"
     ]
    }
   ],
   "source": [
    "import hashlib\n",
    "\n",
    "res = hashlib.md5(\"Ahmed\".encode())\n",
    "print(res.digest())\n",
    "print(res.hexdigest())"
   ]
  },
  {
   "cell_type": "code",
   "execution_count": null,
   "metadata": {},
   "outputs": [],
   "source": [
    "import hashlib\n",
    "\n",
    "res = hashlib.sha1(\"Ahmed\".encode())\n",
    "print(res.digest())\n",
    "print(res.hexdigest())\n",
    "\n",
    "res = hashlib.sha256(\"Ahmed\".encode())\n",
    "print(res.digest())\n",
    "print(res.hexdigest())\n",
    "\n",
    "res = hashlib.sha384(\"Ahmed\".encode())\n",
    "print(res.digest())\n",
    "print(res.hexdigest())\n",
    "\n",
    "res = hashlib.sha512(\"Ahmed\".encode())\n",
    "print(res.digest())\n",
    "print(res.hexdigest())"
   ]
  }
 ],
 "metadata": {
  "interpreter": {
   "hash": "e8d6f667db85590741f3901a9f3e44b5d4353afa4a088b8906c222a99e861616"
  },
  "kernelspec": {
   "display_name": "Python 3.9.0 64-bit",
   "language": "python",
   "name": "python3"
  },
  "language_info": {
   "codemirror_mode": {
    "name": "ipython",
    "version": 3
   },
   "file_extension": ".py",
   "mimetype": "text/x-python",
   "name": "python",
   "nbconvert_exporter": "python",
   "pygments_lexer": "ipython3",
   "version": "3.9.0"
  },
  "orig_nbformat": 4
 },
 "nbformat": 4,
 "nbformat_minor": 2
}
