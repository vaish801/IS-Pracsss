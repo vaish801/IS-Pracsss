{
 "cells": [
  {
   "cell_type": "code",
   "execution_count": 14,
   "metadata": {},
   "outputs": [
    {
     "name": "stdout",
     "output_type": "stream",
     "text": [
      "23\n",
      "17\n",
      "[[15  0 24]\n",
      " [12 14 17]\n",
      " [ 4 12 14]\n",
      " [13  4 24]]\n"
     ]
    }
   ],
   "source": [
    "import numpy as np\n",
    "\n",
    "def mulInverse(a,b):\n",
    "    ri = [b,a]\n",
    "    qi = [0,0]\n",
    "    xi = [1,0]\n",
    "    yi = [0,1]\n",
    "    i = 2\n",
    "    while True:\n",
    "        ri.append(ri[i-2]%ri[i-1])\n",
    "        qi.append(ri[i-2]//ri[i-1])\n",
    "        xi.append(xi[i-2] - qi[i]*xi[i-1])\n",
    "        yi.append(yi[i-2] - qi[i]*yi[i-1])\n",
    "\n",
    "        if ri[i] == 1:\n",
    "            break\n",
    "        i += 1\n",
    "    XI = (b+xi[-1]) if (xi[-1]<0) else (xi[-1])\n",
    "    YI = (b+yi[-1]) if (yi[-1]<0) else (yi[-1])\n",
    "    return YI\n",
    "\n",
    "# PT = np.array([0,2,19])\n",
    "PT = np.array([[15,0,24],[12,14,17],[4,12,14],[13,4,24]])\n",
    "# Key = np.array([[0,11,15],[7,0,1],[4,19,0]])\n",
    "Key = np.array([[17,17,5],[21,18,21],[2,2,19]])\n",
    "CT = np.dot(PT,Key) % 26\n",
    "\n",
    "\n",
    "### we need to find Key Inverse so Key Inverse = inverse of det(key) * adj(k)\n",
    "\n",
    "# finding determinant of Key\n",
    "detOfKey = round(np.linalg.det(Key) % 26) if np.linalg.det(Key) < 0 or np.linalg.det(Key)>26  else round(np.linalg.det(Key))\n",
    "print(detOfKey)\n",
    "\n",
    "# Finding det of Key Inverse\n",
    "detOfKeyInverse = mulInverse(detOfKey, 26)\n",
    "print(detOfKeyInverse)\n",
    "\n",
    "# Now Finding Adjoint of Key \n",
    "adjKey = np.linalg.det(Key) * np.linalg.inv(Key)\n",
    "adjKey = adjKey.round() % 26\n",
    "\n",
    "# Now finally Key Inverse = detKeyInverse * adjKey\n",
    "keyInverse = (detOfKeyInverse * adjKey) % 26\n",
    "# print(keyInverse)\n",
    "\n",
    "### Finally multiply Cipher Text with Key Inverse Matrix\n",
    "DT = np.dot(CT, keyInverse) % 26\n",
    "DT=DT.astype(int)\n",
    "print(DT)\n"
   ]
  },
  {
   "cell_type": "code",
   "execution_count": 15,
   "metadata": {},
   "outputs": [
    {
     "data": {
      "text/plain": [
       "'Hiiinamm'"
      ]
     },
     "execution_count": 15,
     "metadata": {},
     "output_type": "execute_result"
    }
   ],
   "source": [
    "a=\"Hii in amm \"\n",
    "a.replace(\" \",\"\")"
   ]
  }
 ],
 "metadata": {
  "interpreter": {
   "hash": "e8d6f667db85590741f3901a9f3e44b5d4353afa4a088b8906c222a99e861616"
  },
  "kernelspec": {
   "display_name": "Python 3.9.0 64-bit",
   "language": "python",
   "name": "python3"
  },
  "language_info": {
   "codemirror_mode": {
    "name": "ipython",
    "version": 3
   },
   "file_extension": ".py",
   "mimetype": "text/x-python",
   "name": "python",
   "nbconvert_exporter": "python",
   "pygments_lexer": "ipython3",
   "version": "3.9.0"
  },
  "orig_nbformat": 4
 },
 "nbformat": 4,
 "nbformat_minor": 2
}
